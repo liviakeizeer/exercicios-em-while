{
  "nbformat": 4,
  "nbformat_minor": 0,
  "metadata": {
    "colab": {
      "provenance": []
    },
    "kernelspec": {
      "name": "python3",
      "display_name": "Python 3"
    },
    "language_info": {
      "name": "python"
    }
  },
  "cells": [
    {
      "cell_type": "code",
      "execution_count": 2,
      "metadata": {
        "colab": {
          "base_uri": "https://localhost:8080/"
        },
        "id": "ccvLyjGdLb2e",
        "outputId": "a9afd9df-b5e0-4b82-e4dd-cb7b4b38e65a"
      },
      "outputs": [
        {
          "output_type": "stream",
          "name": "stdout",
          "text": [
            "Digite o numero desejado e mostraremos os numeros positivos pares ate ele: 45\n",
            "2\n",
            "4\n",
            "6\n",
            "8\n",
            "10\n",
            "12\n",
            "14\n",
            "16\n",
            "18\n",
            "20\n",
            "22\n",
            "24\n",
            "26\n",
            "28\n",
            "30\n",
            "32\n",
            "34\n",
            "36\n",
            "38\n",
            "40\n",
            "42\n",
            "44\n"
          ]
        }
      ],
      "source": [
        "# Escreva um programa que solicite ao usuário que insira um número e, em\n",
        "# seguida, imprima todos os números pares de 2 até esse número.\n",
        "pares= 2\n",
        "numero = int (input(\"Digite o numero desejado e mostraremos os numeros positivos pares ate ele: \"))\n",
        "while pares <= numero:\n",
        "  print(pares)\n",
        "  pares+=2\n",
        ""
      ]
    }
  ]
}