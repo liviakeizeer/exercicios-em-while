{
  "nbformat": 4,
  "nbformat_minor": 0,
  "metadata": {
    "colab": {
      "provenance": []
    },
    "kernelspec": {
      "name": "python3",
      "display_name": "Python 3"
    },
    "language_info": {
      "name": "python"
    }
  },
  "cells": [
    {
      "cell_type": "code",
      "execution_count": null,
      "metadata": {
        "id": "vdR3UbHRBg9J"
      },
      "outputs": [],
      "source": [
        "# peça um numero e print a tabuada dele\n",
        "numero = int(input(\"Digite um numero: \"))\n",
        "\n",
        "contador = 1\n",
        "\n",
        "while contador <= 10:\n",
        "  resultado = numero * contador\n",
        "  print(f\"{numero} X {contador} = {resultado}\")\n",
        "  contador += 1"
      ]
    }
  ]
}