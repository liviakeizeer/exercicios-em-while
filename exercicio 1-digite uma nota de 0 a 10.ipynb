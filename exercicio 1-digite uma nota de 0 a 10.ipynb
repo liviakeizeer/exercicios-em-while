{
  "nbformat": 4,
  "nbformat_minor": 0,
  "metadata": {
    "colab": {
      "provenance": []
    },
    "kernelspec": {
      "name": "python3",
      "display_name": "Python 3"
    },
    "language_info": {
      "name": "python"
    }
  },
  "cells": [
    {
      "cell_type": "code",
      "execution_count": 3,
      "metadata": {
        "colab": {
          "base_uri": "https://localhost:8080/"
        },
        "id": "ZF2qo9Y4_bS-",
        "outputId": "9e8f318b-ac01-42ad-dfd2-ed8a7c162300"
      },
      "outputs": [
        {
          "output_type": "stream",
          "name": "stdout",
          "text": [
            "Digite uma nota entre zero e dez:11\n",
            "Digite uma nota valida:12\n",
            "Digite uma nota valida:2\n",
            "sucesso\n"
          ]
        }
      ],
      "source": [
        "nota=float(input(\"Digite uma nota entre zero e dez: \"))\n",
        "while nota > 10 or nota < 0:\n",
        "  nota = float(input(\"Digite uma nota valida: \"))\n",
        "print(\"sucesso \")"
      ]
    }
  ]
}