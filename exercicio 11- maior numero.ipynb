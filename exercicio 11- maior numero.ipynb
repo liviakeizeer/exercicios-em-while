{
  "nbformat": 4,
  "nbformat_minor": 0,
  "metadata": {
    "colab": {
      "provenance": []
    },
    "kernelspec": {
      "name": "python3",
      "display_name": "Python 3"
    },
    "language_info": {
      "name": "python"
    }
  },
  "cells": [
    {
      "cell_type": "code",
      "execution_count": 6,
      "metadata": {
        "colab": {
          "base_uri": "https://localhost:8080/"
        },
        "id": "EVi2kUmFdv6k",
        "outputId": "0bb34e16-ce62-48ee-a6dc-cf4103247c07"
      },
      "outputs": [
        {
          "output_type": "stream",
          "name": "stdout",
          "text": [
            "Digite numero 56\n",
            "Digite numero 34\n",
            "Digite numero 12\n",
            "Digite numero 43\n",
            "Digite numero 234\n",
            "Digite numero 43\n",
            "Digite numero 3\n",
            "Digite numero -1\n",
            "234\n"
          ]
        }
      ],
      "source": [
        "# Escreva um programa que solicite ao usuário que insira números até que ele\n",
        "# insira um número negativo. Em seguida, imprima o maior número inserido.\n",
        "maior_numero = 0\n",
        "numero=int(input(\"Digite numero \"))\n",
        "while numero >= 0:\n",
        " numero=int(input(\"Digite numero \"))\n",
        " if numero > maior_numero:\n",
        "  maior_numero= numero\n",
        "print(maior_numero)"
      ]
    }
  ]
}