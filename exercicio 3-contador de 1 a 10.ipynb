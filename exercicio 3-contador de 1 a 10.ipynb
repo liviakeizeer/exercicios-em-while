{
  "nbformat": 4,
  "nbformat_minor": 0,
  "metadata": {
    "colab": {
      "provenance": []
    },
    "kernelspec": {
      "name": "python3",
      "display_name": "Python 3"
    },
    "language_info": {
      "name": "python"
    }
  },
  "cells": [
    {
      "cell_type": "code",
      "execution_count": 2,
      "metadata": {
        "colab": {
          "base_uri": "https://localhost:8080/"
        },
        "id": "RWchcdSiIFL9",
        "outputId": "300d3a51-465f-4d72-b9c0-6c53265db1a8"
      },
      "outputs": [
        {
          "output_type": "stream",
          "name": "stdout",
          "text": [
            "1\n",
            "2\n",
            "3\n",
            "4\n",
            "5\n",
            "6\n",
            "7\n",
            "8\n",
            "9\n",
            "10\n"
          ]
        }
      ],
      "source": [
        "# Escreva um programa que conte de 1 a 10 e imprima cada número.\n",
        "# Inicializa a variável 'numero' com o valor 1\n",
        "numero = 1\n",
        "# Entra em um loop while enquanto 'numero' for menor ou igual\n",
        " # Imprime o valor atual de 'numero'\n",
        " # Incrementa o valor de 'numero' em 1 para que o loop pro\n",
        "while numero > 0 and numero <11:\n",
        "  print(numero)\n",
        "  numero += 1\n",
        "\n",
        "\n"
      ]
    }
  ]
}