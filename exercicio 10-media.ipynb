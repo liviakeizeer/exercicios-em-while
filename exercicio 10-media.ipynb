{
  "nbformat": 4,
  "nbformat_minor": 0,
  "metadata": {
    "colab": {
      "provenance": []
    },
    "kernelspec": {
      "name": "python3",
      "display_name": "Python 3"
    },
    "language_info": {
      "name": "python"
    }
  },
  "cells": [
    {
      "cell_type": "code",
      "execution_count": null,
      "metadata": {
        "id": "93oCbEq4Xqll"
      },
      "outputs": [],
      "source": [
        "# Escreva um programa que calcule a média de uma lista de números fornecida\n",
        "# pelo usuário.\n",
        "contador=0\n",
        "soma= 0\n",
        "qtt=int(input(\"digite a quantidade de numeros a calcular \"))\n",
        "\n",
        "while contador < qtt:\n",
        "  numero=float(input(f\"digite a {contador+1}ª nota \"))\n",
        "  soma += numero\n",
        "  contador += 1\n",
        "  media = soma / qtt\n",
        "print(media)"
      ]
    }
  ]
}