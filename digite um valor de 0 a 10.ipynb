{
  "nbformat": 4,
  "nbformat_minor": 0,
  "metadata": {
    "colab": {
      "provenance": []
    },
    "kernelspec": {
      "name": "python3",
      "display_name": "Python 3"
    },
    "language_info": {
      "name": "python"
    }
  },
  "cells": [
    {
      "cell_type": "code",
      "execution_count": null,
      "metadata": {
        "id": "ZF2qo9Y4_bS-"
      },
      "outputs": [],
      "source": [
        "nota=float(input(\"Digite uma nota entre zero e dez:\"))\n",
        "while nota > 10 or nota < 0:\n",
        "  nota = float(input(\"Digite uma nota valida:\"))\n",
        ""
      ]
    }
  ]
}