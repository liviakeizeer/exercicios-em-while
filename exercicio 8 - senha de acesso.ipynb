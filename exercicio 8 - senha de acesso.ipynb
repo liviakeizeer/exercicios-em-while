{
  "nbformat": 4,
  "nbformat_minor": 0,
  "metadata": {
    "colab": {
      "provenance": []
    },
    "kernelspec": {
      "name": "python3",
      "display_name": "Python 3"
    },
    "language_info": {
      "name": "python"
    }
  },
  "cells": [
    {
      "cell_type": "code",
      "execution_count": null,
      "metadata": {
        "id": "2LCq4ISUTLyz"
      },
      "outputs": [],
      "source": [
        "# Escreva um programa que solicite ao usuário que insira uma senha. O\n",
        "# programa deve continuar solicitando a senha até que o usuário insira a senha correta.\n",
        "senha = \"keizeer\"\n",
        "password=input(\"Digite a senha: \")\n",
        "while password != (\"keizeer\"):\n",
        "  print(\"senha incorreta\")\n",
        "  password=input(\"Digite a senha: \")\n",
        "print(\"acesso liberado!\")"
      ]
    }
  ]
}