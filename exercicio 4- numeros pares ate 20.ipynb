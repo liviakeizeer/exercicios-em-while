{
  "nbformat": 4,
  "nbformat_minor": 0,
  "metadata": {
    "colab": {
      "provenance": []
    },
    "kernelspec": {
      "name": "python3",
      "display_name": "Python 3"
    },
    "language_info": {
      "name": "python"
    }
  },
  "cells": [
    {
      "cell_type": "code",
      "execution_count": 15,
      "metadata": {
        "id": "LBZL57a1JMq1",
        "colab": {
          "base_uri": "https://localhost:8080/"
        },
        "outputId": "db7d3b18-ed14-4377-8b31-441189293d6b"
      },
      "outputs": [
        {
          "output_type": "stream",
          "name": "stdout",
          "text": [
            "2\n",
            "4\n",
            "6\n",
            "8\n",
            "10\n",
            "12\n",
            "14\n",
            "16\n",
            "18\n",
            "20\n"
          ]
        }
      ],
      "source": [
        "# Escreva um programa que imprima os números pares de 1 a 20.\n",
        "# Inicializa a variável 'numero' com o valor 2\n",
        "numero = 2\n",
        "# Entra em um loop while enquanto 'numero' for menor ou igual\n",
        "# Imprime o valor atual de 'numero'\n",
        "while numero < 22:\n",
        "  print(numero)\n",
        "  numero += 2\n",
        "# Incrementa o valor de 'numero' em 2 para que o próximo"
      ]
    }
  ]
}