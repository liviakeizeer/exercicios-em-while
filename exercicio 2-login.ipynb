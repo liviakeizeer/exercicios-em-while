{
  "nbformat": 4,
  "nbformat_minor": 0,
  "metadata": {
    "colab": {
      "provenance": []
    },
    "kernelspec": {
      "name": "python3",
      "display_name": "Python 3"
    },
    "language_info": {
      "name": "python"
    }
  },
  "cells": [
    {
      "cell_type": "code",
      "execution_count": 14,
      "metadata": {
        "colab": {
          "base_uri": "https://localhost:8080/"
        },
        "id": "439_IBXpF_VE",
        "outputId": "82340577-59f5-48bc-84a4-1d575dd41f0b"
      },
      "outputs": [
        {
          "output_type": "stream",
          "name": "stdout",
          "text": [
            "Digite seu nome: livia\n",
            "Digite sua senha: 45\n",
            "Bem-vindo\n"
          ]
        }
      ],
      "source": [
        "# Solicita ao usuário que insira o nome de usuário e armaze na o valor em 'nome'\n",
        "# Solicita ao usuário que insira a senha e armazena o valor em 'senha'\n",
        "# Entra em um loop enquanto a senha for igual ao nome de usuário\n",
        "# Se a senha for igual ao nome de usuário, imprime uma mensagem de erro\n",
        "# Solicita ao usuário que insira novamente o nome de us uário e a senha\n",
        "nome=input(\"Digite seu nome: \")\n",
        "senha=input(\"Digite sua senha: \")\n",
        "while senha == nome:\n",
        "  print(\"erro\")\n",
        "  nome=input(\"Digite seu nome: \")\n",
        "  senha=input(\"Digite sua senha: \")\n",
        "print(\"Bem-vindo\")"
      ]
    }
  ]
}